{
  "nbformat": 4,
  "nbformat_minor": 0,
  "metadata": {
    "colab": {
      "provenance": [],
      "authorship_tag": "ABX9TyO2YqHMgnn4dB7An5EIN5n1",
      "include_colab_link": true
    },
    "kernelspec": {
      "name": "python3",
      "display_name": "Python 3"
    },
    "language_info": {
      "name": "python"
    }
  },
  "cells": [
    {
      "cell_type": "markdown",
      "metadata": {
        "id": "view-in-github",
        "colab_type": "text"
      },
      "source": [
        "<a href=\"https://colab.research.google.com/github/riyyaa9/OOP/blob/main/OOP_LAB_2_Functions.ipynb\" target=\"_parent\"><img src=\"https://colab.research.google.com/assets/colab-badge.svg\" alt=\"Open In Colab\"/></a>"
      ]
    },
    {
      "cell_type": "code",
      "execution_count": null,
      "metadata": {
        "colab": {
          "base_uri": "https://localhost:8080/"
        },
        "id": "xBXSpOPW5ldT",
        "outputId": "715181f5-9e99-4683-e7d7-4e64ae77573d"
      },
      "outputs": [
        {
          "output_type": "stream",
          "name": "stdout",
          "text": [
            "The largest element in the list is: 27\n"
          ]
        }
      ],
      "source": [
        "#Program using function to find the largest element in a list\n",
        "def largest_element(list):\n",
        "    if not list:\n",
        "        return \"List is empty\"\n",
        "\n",
        "    largest_element = list[0]\n",
        "\n",
        "    for element in list:\n",
        "        if element > largest_element:\n",
        "            largest_element = element\n",
        "\n",
        "    return largest_element\n",
        "\n",
        "my_list = [12, 5, 27, 8, 15]\n",
        "result = largest_element(my_list)\n",
        "print(f\"The largest element in the list is: {result}\")\n",
        "\n"
      ]
    },
    {
      "cell_type": "code",
      "source": [
        "#Program to write a function called hexagon_area that takes the length of a side\n",
        "#of a regular hexagon as a parameter and returns the area of the hexagon.\n",
        "\n",
        "import math\n",
        "\n",
        "def hexagon_area(side):\n",
        "    area = (3 * math.sqrt(3) * side ** 2) / 2\n",
        "    return area\n",
        "side = 5\n",
        "result = hexagon_area(side)\n",
        "print(f\"The area of a regular hexagon with side length {side} is: {result}\")\n"
      ],
      "metadata": {
        "colab": {
          "base_uri": "https://localhost:8080/"
        },
        "id": "TmhTzgEa9DqZ",
        "outputId": "2fae1f96-fb44-4897-851d-6f6091861342"
      },
      "execution_count": null,
      "outputs": [
        {
          "output_type": "stream",
          "name": "stdout",
          "text": [
            "The area of a regular hexagon with side length 5 is: 64.9519052838329\n"
          ]
        }
      ]
    },
    {
      "cell_type": "code",
      "source": [
        "#Write a function called is_valid_email  that takes an email address as an argument\n",
        "#and returns True/False depending on whether it is a valid email address.\n",
        "\n",
        "import re\n",
        "def is_valid_email(email):\n",
        "    if not email:\n",
        "        return False\n",
        "    if len(email) > 256:\n",
        "        return False\n",
        "    if not re.match(r'^[a-zA-Z0-9]', email):\n",
        "        return False\n",
        "    if '@' not in email:\n",
        "        return False\n",
        "    username, domain = email.split('@')\n",
        "    if not username or not domain:\n",
        "        return False\n",
        "    if '.' not in domain:\n",
        "        return False\n",
        "    domain_name, extension = domain.split('.')\n",
        "    if not domain_name or not extension:\n",
        "        return False\n",
        "\n",
        "    return True\n",
        "\n",
        "email1 = \"riyakn@gmail.com\"\n",
        "email2 = \"invalid.email@.com\"\n",
        "email3 = \"abc@company.org\"\n",
        "email4 = \"toolongemailaddress@\" + \"a\" * 250\n",
        "\n",
        "print(is_valid_email(email1))\n",
        "print(is_valid_email(email2))\n",
        "print(is_valid_email(email3))\n",
        "print(is_valid_email(email4))\n"
      ],
      "metadata": {
        "colab": {
          "base_uri": "https://localhost:8080/"
        },
        "id": "x1Looj5L_LPR",
        "outputId": "0e4ce547-2ad8-435f-b897-a7e44431af29"
      },
      "execution_count": null,
      "outputs": [
        {
          "output_type": "stream",
          "name": "stdout",
          "text": [
            "True\n",
            "False\n",
            "True\n",
            "False\n"
          ]
        }
      ]
    },
    {
      "cell_type": "code",
      "source": [
        "#Create a function called get_palindromes that is given a string and returns a\n",
        "#list of all the palindromes in the string.\n",
        "def palindromes(input_string):\n",
        "    palindromes = []\n",
        "    def is_palindrome(s):\n",
        "        return s == s[::-1]\n",
        "    words = input_string.split()\n",
        "    for word in words:\n",
        "        if is_palindrome(word):\n",
        "            palindromes.append(word)\n",
        "\n",
        "    return palindromes\n",
        "input_text = \"level hi sun madam hello civic\"\n",
        "\n",
        "result = palindromes(input_text)\n",
        "print(\"Palindromes:\", result)\n"
      ],
      "metadata": {
        "colab": {
          "base_uri": "https://localhost:8080/"
        },
        "id": "nurV4R_5BEan",
        "outputId": "c9490bab-77b3-4554-d960-4d28ca0d6672"
      },
      "execution_count": null,
      "outputs": [
        {
          "output_type": "stream",
          "name": "stdout",
          "text": [
            "Palindromes: ['level', 'madam', 'civic']\n"
          ]
        }
      ]
    },
    {
      "cell_type": "code",
      "source": [
        "#Caesar Cipher algorithm\n",
        "def encrypt(text, shift):\n",
        "    encrypted_text = \"\"\n",
        "    for char in text:\n",
        "        if char.isalpha():\n",
        "            is_upper = char.isupper()\n",
        "            shifted_char = chr((ord(char) - ord('A' if is_upper else 'a') + shift) % 26 + ord('A' if is_upper else 'a'))\n",
        "            encrypted_text += shifted_char\n",
        "        else:\n",
        "            encrypted_text += char\n",
        "    return encrypted_text\n",
        "\n",
        "def decrypt(encrypted_text, shift):\n",
        "    return encrypt(encrypted_text, -shift)\n",
        "\n",
        "text_to_encrypt = \"Hello, World!\"\n",
        "shift_value = 3\n",
        "\n",
        "encrypted_text = encrypt(text_to_encrypt, shift_value)\n",
        "print(\"Encrypted:\", encrypted_text)\n",
        "\n",
        "decrypted_text = decrypt(encrypted_text, shift_value)\n",
        "print(\"Decrypted:\", decrypted_text)\n"
      ],
      "metadata": {
        "colab": {
          "base_uri": "https://localhost:8080/"
        },
        "id": "44LHaiqRJlXr",
        "outputId": "f69f1c20-9a9a-438c-f530-5c2eac98a832"
      },
      "execution_count": null,
      "outputs": [
        {
          "output_type": "stream",
          "name": "stdout",
          "text": [
            "Encrypted: Khoor, Zruog!\n",
            "Decrypted: Hello, World!\n"
          ]
        }
      ]
    }
  ]
}