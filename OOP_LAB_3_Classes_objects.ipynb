{
  "nbformat": 4,
  "nbformat_minor": 0,
  "metadata": {
    "colab": {
      "provenance": [],
      "authorship_tag": "ABX9TyPWCQoajR6444o1165sZWk2",
      "include_colab_link": true
    },
    "kernelspec": {
      "name": "python3",
      "display_name": "Python 3"
    },
    "language_info": {
      "name": "python"
    }
  },
  "cells": [
    {
      "cell_type": "markdown",
      "metadata": {
        "id": "view-in-github",
        "colab_type": "text"
      },
      "source": [
        "<a href=\"https://colab.research.google.com/github/riyyaa9/OOP/blob/main/OOP_LAB_3_Classes_objects.ipynb\" target=\"_parent\"><img src=\"https://colab.research.google.com/assets/colab-badge.svg\" alt=\"Open In Colab\"/></a>"
      ]
    },
    {
      "cell_type": "code",
      "execution_count": null,
      "metadata": {
        "colab": {
          "base_uri": "https://localhost:8080/"
        },
        "id": "ZvXSUMzyrPIO",
        "outputId": "42cdefaf-304d-4c69-dc34-7ca21264285f"
      },
      "outputs": [
        {
          "output_type": "stream",
          "name": "stdout",
          "text": [
            "Is student_instance an instance of Student? True\n",
            "Is marks_instance an instance of Marks? True\n",
            "Is Student a subclass of object? True\n",
            "Is Marks a subclass of object? True\n"
          ]
        }
      ],
      "source": [
        "#Write a Python program to create two empty classes, Student and Marks.\n",
        "#Create some instances and check whether they are instances of the said classes or not.\n",
        "#Check whether the said classes are subclasses of the built-in object class or not.\n",
        "\n",
        "class Student:\n",
        "    def __init__(self):\n",
        "        pass\n",
        "\n",
        "class Marks:\n",
        "    def __init__(self):\n",
        "        pass\n",
        "\n",
        "student_instance = Student()\n",
        "marks_instance = Marks()\n",
        "\n",
        "is_student_instance = isinstance(student_instance, Student)\n",
        "is_marks_instance = isinstance(marks_instance, Marks)\n",
        "\n",
        "is_student_subclass = issubclass(Student, object)\n",
        "is_marks_subclass = issubclass(Marks, object)\n",
        "\n",
        "\n",
        "print(f\"Is student_instance an instance of Student? {is_student_instance}\")\n",
        "print(f\"Is marks_instance an instance of Marks? {is_marks_instance}\")\n",
        "print(f\"Is Student a subclass of object? {is_student_subclass}\")\n",
        "print(f\"Is Marks a subclass of object? {is_marks_subclass}\")"
      ]
    },
    {
      "cell_type": "code",
      "source": [
        "#birthday boy\n",
        "class BirthdayBoy:\n",
        "    def __init__(self, name, age):\n",
        "        self.name = name\n",
        "        self.age = age\n",
        "\n",
        "    def birthday(self):\n",
        "        self.age += 1\n",
        "\n",
        "person = BirthdayBoy(name=\"John\", age=68)\n",
        "\n",
        "print(f\"Initial age of {person.name}: {person.age}\")\n",
        "\n",
        "person.birthday()\n",
        "\n",
        "print(f\"Updated age of {person.name} after the birthday: {person.age}\")"
      ],
      "metadata": {
        "colab": {
          "base_uri": "https://localhost:8080/"
        },
        "id": "4MuG2o66rhJa",
        "outputId": "a7c991bf-d844-4084-87af-1ae05e620fdb"
      },
      "execution_count": null,
      "outputs": [
        {
          "output_type": "stream",
          "name": "stdout",
          "text": [
            "Initial age of John: 68\n",
            "Updated age of John after the birthday: 69\n"
          ]
        }
      ]
    },
    {
      "cell_type": "code",
      "source": [
        "#Create a parameterized constructor for the Employee class, which takes three arguments, name, age, and salary,\n",
        "#and initializes the instance variables of the class with the values passed as arguments\n",
        "class Employee:\n",
        "    def __init__(self, name, age, salary):\n",
        "        self.name = name\n",
        "        self.age = age\n",
        "        self.salary = salary\n",
        "\n",
        "employee1 = Employee(\"John Doe\", 30, 50000)\n",
        "print(\"name:\",employee1.name)\n",
        "print(\"age:\",employee1.age)\n",
        "print(\"salary:\",employee1.salary)"
      ],
      "metadata": {
        "colab": {
          "base_uri": "https://localhost:8080/"
        },
        "id": "0sHzTRcGrlRB",
        "outputId": "c64efea9-e617-4f17-f3a8-cca783c52d9a"
      },
      "execution_count": null,
      "outputs": [
        {
          "output_type": "stream",
          "name": "stdout",
          "text": [
            "name: John Doe\n",
            "age: 30\n",
            "salary: 50000\n"
          ]
        }
      ]
    },
    {
      "cell_type": "code",
      "source": [
        "#Create a default constructor for the Student class. The default constructor initializes the name, age, and grade attributes of the object to their default values.\n",
        "#create an object of the Student class using the default constructor, it sets the name, age, and grade attributes to their default values.\n",
        "class Student:\n",
        "    def __init__(self):\n",
        "        self.name = \"John Doe\"\n",
        "        self.age = 18\n",
        "        self.grade = \"A\"\n",
        "s = Student()\n",
        "print(\"Name:\", s.name)\n",
        "print(\"Age:\", s.age)\n",
        "print(\"Grade:\", s.grade)"
      ],
      "metadata": {
        "colab": {
          "base_uri": "https://localhost:8080/"
        },
        "id": "PQVcR4sirmsN",
        "outputId": "fffc5c25-5ba4-402e-d22b-1365dc65fd0e"
      },
      "execution_count": null,
      "outputs": [
        {
          "output_type": "stream",
          "name": "stdout",
          "text": [
            "Name: John Doe\n",
            "Age: 18\n",
            "Grade: A\n"
          ]
        }
      ]
    },
    {
      "cell_type": "code",
      "source": [
        "#rectangle class\n",
        "class Rectangle:\n",
        "    def __init__(self, length, breadth):\n",
        "        self.length = length\n",
        "        self.breadth = breadth\n",
        "\n",
        "r1 = Rectangle(5, 10)\n",
        "print(\"length:\",r1.length)\n",
        "print(\"breadth:\",r1.breadth)"
      ],
      "metadata": {
        "colab": {
          "base_uri": "https://localhost:8080/"
        },
        "id": "9C5VFFnkrqt2",
        "outputId": "3f4e0770-ae52-4275-d8ee-30d65e060db9"
      },
      "execution_count": null,
      "outputs": [
        {
          "output_type": "stream",
          "name": "stdout",
          "text": [
            "length: 5\n",
            "breadth: 10\n"
          ]
        }
      ]
    },
    {
      "cell_type": "code",
      "source": [
        "#class songs\n",
        "class Song:\n",
        "    def __init__(self, lyrics):\n",
        "        self.lyrics = lyrics\n",
        "\n",
        "    def sing_me_a_song(self):\n",
        "        for line in self.lyrics:\n",
        "            print(line)\n",
        "\n",
        "happy_bday_lyrics = [\n",
        "    \"May god bless you,\",\n",
        "    \"Have sunshine on you,\",\n",
        "    \"Happy Birthday to you!\"\n",
        "]\n",
        "\n",
        "happy_bday = Song(happy_bday_lyrics)\n",
        "\n",
        "happy_bday.sing_me_a_song()\n"
      ],
      "metadata": {
        "colab": {
          "base_uri": "https://localhost:8080/"
        },
        "id": "A9eihEccrt9Z",
        "outputId": "ec955dd7-6580-4c2e-edc0-3f463970c6d7"
      },
      "execution_count": null,
      "outputs": [
        {
          "output_type": "stream",
          "name": "stdout",
          "text": [
            "May god bless you,\n",
            "Have sunshine on you,\n",
            "Happy Birthday to you!\n"
          ]
        }
      ]
    },
    {
      "cell_type": "code",
      "source": [
        "#create a class named as room with attributes length and breadth and create a method called calculate area\n",
        "class Room:\n",
        "    def __init__(self, length, breadth):\n",
        "        self.length = length\n",
        "        self.breadth = breadth\n",
        "\n",
        "    def calculate_area(self):\n",
        "        area = self.length * self.breadth\n",
        "        return area\n",
        "\n",
        "my_room = Room(10, 8)\n",
        "\n",
        "area_of_my_room = my_room.calculate_area()\n",
        "\n",
        "print(\"Area of my room:\", area_of_my_room)\n"
      ],
      "metadata": {
        "colab": {
          "base_uri": "https://localhost:8080/"
        },
        "id": "wFiOkNe7rxen",
        "outputId": "8ff1fe96-f29f-439f-ab51-02575eadec95"
      },
      "execution_count": null,
      "outputs": [
        {
          "output_type": "stream",
          "name": "stdout",
          "text": [
            "Area of my room: 80\n"
          ]
        }
      ]
    }
  ]
}