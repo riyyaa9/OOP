{
  "nbformat": 4,
  "nbformat_minor": 0,
  "metadata": {
    "colab": {
      "provenance": [],
      "authorship_tag": "ABX9TyNFaDhbXBDMaLN0KroWklg6",
      "include_colab_link": true
    },
    "kernelspec": {
      "name": "python3",
      "display_name": "Python 3"
    },
    "language_info": {
      "name": "python"
    }
  },
  "cells": [
    {
      "cell_type": "markdown",
      "metadata": {
        "id": "view-in-github",
        "colab_type": "text"
      },
      "source": [
        "<a href=\"https://colab.research.google.com/github/riyyaa9/OOP/blob/main/OOPS_LAB_3_Classes_Objects_part_2_.ipynb\" target=\"_parent\"><img src=\"https://colab.research.google.com/assets/colab-badge.svg\" alt=\"Open In Colab\"/></a>"
      ]
    },
    {
      "cell_type": "code",
      "execution_count": null,
      "metadata": {
        "colab": {
          "base_uri": "https://localhost:8080/"
        },
        "id": "fnVpF9uSGC3o",
        "outputId": "6a4d9cb1-74c6-4d2d-f520-b6e4407fb007"
      },
      "outputs": [
        {
          "output_type": "stream",
          "name": "stdout",
          "text": [
            "Title: The Great Gatsby\n",
            "Author: F. Scott Fitzgerald\n",
            "Genre: Fiction\n",
            "Publication Year: 1925\n",
            "\n",
            "Title: To Kill a Mockingbird\n",
            "Author: Harper Lee\n",
            "Genre: Fiction\n",
            "Publication Year: 1960\n",
            "\n",
            "Title: 1984\n",
            "Author: George Orwell\n",
            "Genre: Dystopian\n",
            "Publication Year: 1949\n",
            "\n"
          ]
        }
      ],
      "source": [
        "class Book:\n",
        "    def __init__(self, title, author, genre, publication_year):\n",
        "        self.title = title\n",
        "        self.author = author\n",
        "        self.genre = genre\n",
        "        self.publication_year = publication_year\n",
        "\n",
        "    def display_info(self):\n",
        "        print(f\"Title: {self.title}\")\n",
        "        print(f\"Author: {self.author}\")\n",
        "        print(f\"Genre: {self.genre}\")\n",
        "        print(f\"Publication Year: {self.publication_year}\")\n",
        "        print()\n",
        "\n",
        "book1 = Book(\"The Great Gatsby\", \"F. Scott Fitzgerald\", \"Fiction\", 1925)\n",
        "book2 = Book(\"To Kill a Mockingbird\", \"Harper Lee\", \"Fiction\", 1960)\n",
        "book3 = Book(\"1984\", \"George Orwell\", \"Dystopian\", 1949)\n",
        "\n",
        "book1.display_info()\n",
        "book2.display_info()\n",
        "book3.display_info()\n"
      ]
    },
    {
      "cell_type": "code",
      "source": [
        "class MovieTicket:\n",
        "    def __init__(self, movie_name, show_time, ticket_price, total_tickets):\n",
        "        self.movie_name = movie_name\n",
        "        self.show_time = show_time\n",
        "        self.ticket_price = ticket_price\n",
        "        self.number_of_tickets_available = total_tickets\n",
        "\n",
        "    def book_tickets(self, num_tickets):\n",
        "        if num_tickets <= self.number_of_tickets_available:\n",
        "            self.number_of_tickets_available -= num_tickets\n",
        "            return (f\"Booking successful! {num_tickets} tickets booked for {self.movie_name}.\")\n",
        "        else:\n",
        "            return (f\"Sorry, not enough tickets available. Only {self.number_of_tickets_available} tickets left.\")\n",
        "\n",
        "    def calculate_total_cost(self, num_tickets):\n",
        "        return num_tickets * self.ticket_price\n",
        "\n",
        "    def display_movie_info(self):\n",
        "        print(f\"Movie: {self.movie_name}\")\n",
        "        print(f\"Show Time: {self.show_time}\")\n",
        "        print(f\"Ticket Price: Rs {self.ticket_price}\")\n",
        "        print(f\"Number of Tickets Available: {self.number_of_tickets_available}\")\n",
        "        print()\n",
        "\n",
        "\n",
        "movie_ticket = MovieTicket(\"Inception\", \"8:00 PM\", 350, 50)\n",
        "\n",
        "movie_ticket.display_movie_info()\n",
        "\n",
        "booking_result = movie_ticket.book_tickets(4)\n",
        "print(booking_result)\n",
        "\n",
        "total_cost = movie_ticket.calculate_total_cost(4)\n",
        "print(f\"Total Cost: Rs {total_cost}\")\n",
        "\n",
        "movie_ticket.display_movie_info()\n",
        "\n"
      ],
      "metadata": {
        "colab": {
          "base_uri": "https://localhost:8080/"
        },
        "id": "Ct8QnSnUH7uU",
        "outputId": "d5803e9c-29dc-445d-f4da-b95a0b935194"
      },
      "execution_count": null,
      "outputs": [
        {
          "output_type": "stream",
          "name": "stdout",
          "text": [
            "Movie: Inception\n",
            "Show Time: 8:00 PM\n",
            "Ticket Price: Rs 350\n",
            "Number of Tickets Available: 50\n",
            "\n",
            "Booking successful! 4 tickets booked for Inception.\n",
            "Total Cost: Rs 1400\n",
            "Movie: Inception\n",
            "Show Time: 8:00 PM\n",
            "Ticket Price: Rs 350\n",
            "Number of Tickets Available: 46\n",
            "\n"
          ]
        }
      ]
    },
    {
      "cell_type": "code",
      "source": [
        "class Employee:\n",
        "    def __init__(self, name, salary):\n",
        "        self.name = name\n",
        "        self.__salary = salary  # Private instance variable\n",
        "\n",
        "    def work(self):\n",
        "        print(f\"{self.name} is working.\")\n",
        "\n",
        "    def show(self):\n",
        "        print(f\"Employee: {self.name}\")\n",
        "        print(f\"Salary: Rs {self.__salary}\")\n",
        "        print()\n",
        "\n",
        "\n",
        "employee1 = Employee(\"John\", 50000)\n",
        "\n",
        "employee1.work()\n",
        "\n",
        "employee1.show()\n"
      ],
      "metadata": {
        "colab": {
          "base_uri": "https://localhost:8080/"
        },
        "id": "dKo55T4-MyBG",
        "outputId": "9f395c0f-5b18-4580-b30b-eecb12bfa390"
      },
      "execution_count": null,
      "outputs": [
        {
          "output_type": "stream",
          "name": "stdout",
          "text": [
            "John is working.\n",
            "Employee: John\n",
            "Salary: Rs 50000\n",
            "\n"
          ]
        }
      ]
    },
    {
      "cell_type": "code",
      "source": [
        "class CreditCard:\n",
        "    def __init__(self, limit):\n",
        "        self.__limit = limit  # Private variable\n",
        "        self.balance = 0\n",
        "\n",
        "    def get_balance(self):\n",
        "        return self.balance\n",
        "\n",
        "    def withdraw(self, amount):\n",
        "        if amount > 0 and amount <= self.balance:\n",
        "            self.balance -= amount\n",
        "            print(f\"Withdrawal of Rs {amount} successful. New balance: Rs {self.balance}\")\n",
        "        else:\n",
        "            print(\"Invalid withdrawal amount or insufficient funds.\")\n",
        "\n",
        "    def deposit(self, amount):\n",
        "        if amount > 0:\n",
        "            self.balance += amount\n",
        "            print(f\"Deposit of Rs {amount} successful. New balance: Rs {self.balance}\")\n",
        "        else:\n",
        "            print(\"Invalid deposit amount.\")\n",
        "\n",
        "credit_card = CreditCard(limit=1000)\n",
        "\n",
        "print(f\"Initial balance: Rs {credit_card.get_balance()}\")\n",
        "\n",
        "credit_card.deposit(200)\n",
        "credit_card.withdraw(50)\n",
        "\n",
        "print(f\"Final balance: Rs {credit_card.get_balance()}\")\n"
      ],
      "metadata": {
        "colab": {
          "base_uri": "https://localhost:8080/"
        },
        "id": "-rE8PmhoOBPP",
        "outputId": "0c98d2ae-7453-43c2-b721-116dd566f2c6"
      },
      "execution_count": null,
      "outputs": [
        {
          "output_type": "stream",
          "name": "stdout",
          "text": [
            "Initial balance: Rs 0\n",
            "Deposit of Rs 200 successful. New balance: Rs 200\n",
            "Withdrawal of Rs 50 successful. New balance: Rs 150\n",
            "Final balance: Rs 150\n"
          ]
        }
      ]
    },
    {
      "cell_type": "code",
      "source": [
        "class Product:\n",
        "    def __init__(self, product_id, product_name, product_price):\n",
        "        self.product_id = product_id\n",
        "        self.product_name = product_name\n",
        "        self.product_price = product_price\n",
        "\n",
        "    def apply_discount(self, discount_percentage):\n",
        "        if 0 <= discount_percentage <= 100:\n",
        "            discounted_price = self.product_price * (1 - discount_percentage / 100)\n",
        "            return discounted_price\n",
        "        else:\n",
        "            print(\"Invalid discount percentage.\")\n",
        "            return None\n",
        "\n",
        "    def is_expensive(self, threshold_price):\n",
        "        return self.product_price > threshold_price\n",
        "\n",
        "    def display_product_info(self):\n",
        "        print(f\"Product ID: {self.product_id}\")\n",
        "        print(f\"Product Name: {self.product_name}\")\n",
        "        print(f\"Product Price: Rs {self.product_price}\")\n",
        "        print()\n",
        "\n",
        "\n",
        "product1 = Product(product_id=1, product_name=\"Laptop\", product_price=120000)\n",
        "\n",
        "product1.display_product_info()\n",
        "\n",
        "discounted_price = product1.apply_discount(10)\n",
        "if discounted_price is not None:\n",
        "    print(f\"Discounted Price: Rs {discounted_price}\")\n",
        "\n",
        "expensive_result = product1.is_expensive(1000)\n",
        "print(f\"Is the product expensive? {expensive_result}\")\n"
      ],
      "metadata": {
        "colab": {
          "base_uri": "https://localhost:8080/"
        },
        "id": "VXv9ROiBP7-_",
        "outputId": "1cde6154-ec98-4750-f0cd-92d8aade6d41"
      },
      "execution_count": null,
      "outputs": [
        {
          "output_type": "stream",
          "name": "stdout",
          "text": [
            "Product ID: 1\n",
            "Product Name: Laptop\n",
            "Product Price: Rs 120000\n",
            "\n",
            "Discounted Price: Rs 108000.0\n",
            "Is the product expensive? True\n"
          ]
        }
      ]
    },
    {
      "cell_type": "code",
      "source": [
        "class ExpensiveCar:\n",
        "    def __init__(self, price, speed, mileage, model, color):\n",
        "        self.price = price\n",
        "        self.speed = speed\n",
        "        self.mileage = mileage\n",
        "        self.model = model\n",
        "        self.color = color\n",
        "        self.is_engine_started = False\n",
        "        self.current_speed = 0\n",
        "\n",
        "    def start(self):\n",
        "        if not self.is_engine_started:\n",
        "            print(\"Engine started.\")\n",
        "            self.is_engine_started = True\n",
        "            self.current_speed = 5  # Initial speed when starting the car\n",
        "            print(f\"Current speed: {self.current_speed} mph\")\n",
        "        else:\n",
        "            print(\"Engine is already running.\")\n",
        "\n",
        "    def stop(self):\n",
        "        if self.is_engine_started:\n",
        "            print(\"Engine stopped.\")\n",
        "            self.is_engine_started = False\n",
        "            self.current_speed = 0\n",
        "            print(f\"Car has come to a complete stop.\")\n",
        "        else:\n",
        "            print(\"Engine is already stopped.\")\n",
        "\n",
        "    def accelerate(self, acceleration):\n",
        "        if self.is_engine_started:\n",
        "            self.current_speed += acceleration\n",
        "            print(f\"Accelerating. Current speed: {self.current_speed} mph\")\n",
        "        else:\n",
        "            print(\"Cannot accelerate. Engine is not started.\")\n",
        "\n",
        "    def apply_brakes(self, deceleration):\n",
        "        if self.is_engine_started and self.current_speed > 0:\n",
        "            self.current_speed -= deceleration\n",
        "            print(f\"Applying brakes. Current speed: {self.current_speed} mph\")\n",
        "        else:\n",
        "            print(\"Cannot apply brakes. Engine is not started or car is already stopped.\")\n",
        "\n",
        "\n",
        "car1 = ExpensiveCar(price=100000, speed=200, mileage=15, model=\"LuxuryCar1\", color=\"Red\")\n",
        "\n",
        "car1.start()\n",
        "\n",
        "car1.accelerate(30)\n",
        "\n",
        "car1.apply_brakes(10)\n",
        "\n",
        "car1.stop()\n"
      ],
      "metadata": {
        "colab": {
          "base_uri": "https://localhost:8080/"
        },
        "id": "yxj7vYlFUSRg",
        "outputId": "8edef9cb-a0e3-4a03-fab4-c1471a7c4010"
      },
      "execution_count": null,
      "outputs": [
        {
          "output_type": "stream",
          "name": "stdout",
          "text": [
            "Engine started.\n",
            "Current speed: 5 mph\n",
            "Accelerating. Current speed: 35 mph\n",
            "Applying brakes. Current speed: 25 mph\n",
            "Engine stopped.\n",
            "Car has come to a complete stop.\n"
          ]
        }
      ]
    }
  ]
}